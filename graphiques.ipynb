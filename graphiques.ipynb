{
 "cells": [
  {
   "cell_type": "markdown",
   "id": "3dd1b6c3",
   "metadata": {},
   "source": [
    "# Exploiter le CSV"
   ]
  },
  {
   "cell_type": "code",
   "execution_count": null,
   "id": "7ff12912",
   "metadata": {},
   "outputs": [],
   "source": [
    "import matplotlib"
   ]
  },
  {
   "cell_type": "code",
   "execution_count": null,
   "id": "90959661",
   "metadata": {},
   "outputs": [],
   "source": [
    "import matplotlib.pyplot as plt\n",
    "from datetime import datetime"
   ]
  },
  {
   "cell_type": "code",
   "execution_count": null,
   "id": "415d040c",
   "metadata": {},
   "outputs": [],
   "source": [
    "df = pd.read_csv(\"data_exploiter.csv\")"
   ]
  },
  {
   "cell_type": "code",
   "execution_count": null,
   "id": "b5365472",
   "metadata": {},
   "outputs": [],
   "source": [
    "df"
   ]
  },
  {
   "cell_type": "code",
   "execution_count": null,
   "id": "42d4e623",
   "metadata": {},
   "outputs": [],
   "source": [
    "df.info()"
   ]
  },
  {
   "cell_type": "markdown",
   "id": "e3f78e69",
   "metadata": {},
   "source": [
    "Nous voulons obtenir une série temporelle, c'est-à-dire un dataframe dont l'index est un DateTimeIndex. Le DataFrame actuel  a un index simple. Nous avons beoin d'un index temporel, appelé datetime64."
   ]
  },
  {
   "cell_type": "code",
   "execution_count": null,
   "id": "f441652f",
   "metadata": {},
   "outputs": [],
   "source": [
    "  # Indiquer format=\"%d/%m/%Y\""
   ]
  },
  {
   "cell_type": "code",
   "execution_count": null,
   "id": "a420d551",
   "metadata": {},
   "outputs": [],
   "source": [
    "df2 = df.set_index(pd.to_datetime(df.date, format=\"%d/%m/%Y\"))"
   ]
  },
  {
   "cell_type": "code",
   "execution_count": null,
   "id": "06e3d09f",
   "metadata": {},
   "outputs": [],
   "source": [
    "on_left = ['vol_disp_MB']\n",
    "on_right= ['vol_occup%']\n",
    "\n",
    "fig, ax1 = plt.subplots(figsize=(12, 3), dpi=80, facecolor='ivory', edgecolor='red')\n",
    "# sur échelle de gauche : \n",
    "color1 = \"red\"\n",
    "ax1.set_ylabel(\"Volumes en % occupation\", color=color1)\n",
    "for item in on_left:\n",
    "    ax1.plot(df2.index, df2[item], \"--\", color= color1, label = item)\n",
    "\n",
    "\n",
    "ax2 = ax1.twinx()\n",
    "# sur échelle de droite\n",
    "color2= 'tab:blue'\n",
    "\n",
    "ax2.set_ylabel(\"Volumes dispo en MB\", color=color2)\n",
    "for item in on_right:\n",
    "    ax2.plot(df2.index, df2[item], \".\", color=color2, label = item)\n",
    "\n",
    "fig.legend(loc = (0.08, 0.8)) #  bbox_to_anchor = (datetime(2022, 12, 1), 8000)\n",
    "# Ajout des commentaires.\n",
    "other_comments = [(datetime(2023, 6, 1), \"Intervention Mips\")]\n",
    "for a_date, label in other_comments:\n",
    "    if (a_date > df2[:1].index) and (a_date < df2[-1:].index): \n",
    "        ax1.annotate(label, xy=(a_date, 4000), rotation=45)\n",
    "\n",
    "fig.tight_layout()"
   ]
  },
  {
   "cell_type": "code",
   "execution_count": null,
   "id": "bd92c02b",
   "metadata": {},
   "outputs": [],
   "source": [
    "df2.columns"
   ]
  },
  {
   "cell_type": "code",
   "execution_count": null,
   "id": "0d5084c9",
   "metadata": {},
   "outputs": [],
   "source": [
    "# Représentation de la gestion des extends"
   ]
  },
  {
   "cell_type": "code",
   "execution_count": null,
   "id": "c2a6cd96",
   "metadata": {},
   "outputs": [],
   "source": [
    "fig, ax1 = plt.subplots(figsize=(12, 3), dpi=80, facecolor='ivory', edgecolor='red')\n",
    "color1 = \"red\"\n",
    "ax1.plot(df2.index, df2['area_occup%'], \"--\", color= color1, label = 'area_occup%')\n",
    "ax1.set_ylabel('area_occup%', color=color1)\n",
    "\n",
    "ax2 = ax1.twinx()\n",
    "\n",
    "color2= 'tab:blue'\n",
    "ax2.plot(df2.index, df2['area_MB_libres'], \".\", color=color2, label = 'area_MB_libres')\n",
    "ax2.set_ylabel('area_MB_libres', color=color2)\n",
    "\n",
    "fig.legend()\n",
    "# Ajout des commentaires.\n",
    "other_comments = [(datetime(2023, 6, 1), \"Intervention Mips\")]\n",
    "for a_date, label in other_comments:\n",
    "    if (a_date > df2[:1].index) and (a_date < df2[-1:].index): \n",
    "        ax1.annotate(label, xy=(a_date, 93), rotation=45)\n",
    "\n",
    "fig.tight_layout()"
   ]
  },
  {
   "cell_type": "code",
   "execution_count": null,
   "id": "284a9651",
   "metadata": {},
   "outputs": [],
   "source": [
    "df2.plot()"
   ]
  },
  {
   "cell_type": "code",
   "execution_count": null,
   "id": "e370eb79",
   "metadata": {},
   "outputs": [],
   "source": [
    "del df2"
   ]
  },
  {
   "cell_type": "code",
   "execution_count": null,
   "id": "d127f86d",
   "metadata": {},
   "outputs": [],
   "source": [
    "df"
   ]
  },
  {
   "cell_type": "code",
   "execution_count": null,
   "id": "48dafc53",
   "metadata": {},
   "outputs": [],
   "source": [
    "import pandas as pd\n",
    "import matplotlib.pyplot as plt\n",
    "\n",
    "# Créer un DataFrame de démonstration avec un DateTimeIndex\n",
    "data = {'a': [100, 150, 200, 180, 220],\n",
    "        'b': [5000, 6000, 5500, 5800, 5700]}\n",
    "index = pd.date_range('2023-01-01', periods=5, freq='D')\n",
    "df = pd.DataFrame(data, index=index)\n",
    "\n",
    "# Créer une figure et des axes\n",
    "fig, ax1 = plt.subplots()\n",
    "\n",
    "# Tracer la colonne 'a' avec une échelle à droite\n",
    "color = 'tab:blue'\n",
    "ax1.set_xlabel('Date')\n",
    "ax1.set_ylabel('Column a', color=color)\n",
    "ax1.plot(df.index, df['a'], color=color)\n",
    "ax1.tick_params(axis='y', labelcolor=color)\n",
    "\n",
    "# Créer un deuxième axe partageant le même axe x (Date)\n",
    "ax2 = ax1.twinx()\n",
    "\n",
    "# Tracer la colonne 'b' avec une échelle à gauche\n",
    "color = 'tab:red'\n",
    "ax2.set_ylabel('Column b', color=color)\n",
    "ax2.plot(df.index, df['b'], color=color)\n",
    "ax2.tick_params(axis='y', labelcolor=color)\n",
    "\n",
    "# Ajuster la disposition pour éviter que les étiquettes ne se chevauchent\n",
    "fig.tight_layout()\n",
    "\n",
    "# Afficher le graphique\n",
    "plt.show()\n"
   ]
  },
  {
   "cell_type": "code",
   "execution_count": null,
   "id": "2a62dd66",
   "metadata": {},
   "outputs": [],
   "source": []
  }
 ],
 "metadata": {
  "kernelspec": {
   "display_name": "Python 3 (ipykernel)",
   "language": "python",
   "name": "python3"
  },
  "language_info": {
   "codemirror_mode": {
    "name": "ipython",
    "version": 3
   },
   "file_extension": ".py",
   "mimetype": "text/x-python",
   "name": "python",
   "nbconvert_exporter": "python",
   "pygments_lexer": "ipython3",
   "version": "3.9.6"
  }
 },
 "nbformat": 4,
 "nbformat_minor": 5
}
